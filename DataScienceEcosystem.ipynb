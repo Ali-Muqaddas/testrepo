{
 "cells": [
  {
   "cell_type": "markdown",
   "id": "25caa18e",
   "metadata": {},
   "source": [
    "# Data Science Tools and Ecosystem"
   ]
  },
  {
   "cell_type": "markdown",
   "id": "f9f886cf",
   "metadata": {},
   "source": [
    " Summary of Data Science Tools and Ecosystem"
   ]
  },
  {
   "cell_type": "markdown",
   "id": "5756fbf0",
   "metadata": {},
   "source": [
    "**Objectives:** \n",
    "- Popular Languages used in Data Science \n",
    "- Commonly used libraries by Data Scientists\n",
    "- Data Science Tools \n",
    "- How to use arthmatic expressions \n",
    "\n"
   ]
  },
  {
   "cell_type": "markdown",
   "id": "80f32b3a",
   "metadata": {},
   "source": [
    "List of popular languages that Data Scientists use are:\n",
    "1. Python\n",
    "2. R Language \n",
    "3. SQL \n",
    "4. Java/Scala"
   ]
  },
  {
   "cell_type": "markdown",
   "id": "289b9486",
   "metadata": {},
   "source": [
    "Some of the commonly used libraries by Data Scientists include:\n",
    "Pandas\n",
    "Numpy\n",
    "SciPy\n",
    "scikit-learn\n",
    "TensorFlow/PyTorch\n",
    "Matplotlib/Seaborn"
   ]
  },
  {
   "cell_type": "markdown",
   "id": "d7eae858",
   "metadata": {},
   "source": [
    "| Data Science Tools |\n",
    "| Jupyter Notebook   |\n",
    "| RStudio            |\n",
    "| Visual Studio Code |"
   ]
  },
  {
   "cell_type": "markdown",
   "id": "022a283e",
   "metadata": {},
   "source": [
    "### Below are a few examples of evaluating arithmetic expressions in Python"
   ]
  },
  {
   "cell_type": "code",
   "execution_count": 1,
   "id": "50ca132d",
   "metadata": {},
   "outputs": [
    {
     "data": {
      "text/plain": [
       "17"
      ]
     },
     "execution_count": 1,
     "metadata": {},
     "output_type": "execute_result"
    }
   ],
   "source": [
    "# This is a simple arithmetic expression to multiply then add integers\n",
    "(3 * 4) + 5"
   ]
  },
  {
   "cell_type": "code",
   "execution_count": 2,
   "id": "c9518f8e",
   "metadata": {},
   "outputs": [
    {
     "data": {
      "text/plain": [
       "3.3333333333333335"
      ]
     },
     "execution_count": 2,
     "metadata": {},
     "output_type": "execute_result"
    }
   ],
   "source": [
    "# This will convert 200 minutes to hours by diving by 60\n",
    "200/60"
   ]
  },
  {
   "cell_type": "markdown",
   "id": "b0ca6f62",
   "metadata": {},
   "source": [
    "## Author\n",
    "Muhammad Ali Muqaddas "
   ]
  }
 ],
 "metadata": {
  "kernelspec": {
   "display_name": "Python 3 (ipykernel)",
   "language": "python",
   "name": "python3"
  },
  "language_info": {
   "codemirror_mode": {
    "name": "ipython",
    "version": 3
   },
   "file_extension": ".py",
   "mimetype": "text/x-python",
   "name": "python",
   "nbconvert_exporter": "python",
   "pygments_lexer": "ipython3",
   "version": "3.11.5"
  }
 },
 "nbformat": 4,
 "nbformat_minor": 5
}
